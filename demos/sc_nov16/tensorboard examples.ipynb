{
 "cells": [
  {
   "cell_type": "code",
   "execution_count": 101,
   "metadata": {},
   "outputs": [],
   "source": [
    "import tensorflow as tf\n",
    "from tensorflow.contrib.tensorboard.plugins import projector\n",
    "from tensorflow.examples.tutorials.mnist import input_data\n",
    "\n",
    "import os\n",
    "import numpy as np\n",
    "from matplotlib import pyplot as plt\n",
    "from matplotlib import image\n",
    "\n",
    "from datasets import MNISTDataset\n",
    "from time import time\n",
    "\n",
    "%matplotlib inline"
   ]
  },
  {
   "cell_type": "markdown",
   "metadata": {},
   "source": [
    "## This works!"
   ]
  },
  {
   "cell_type": "code",
   "execution_count": 63,
   "metadata": {},
   "outputs": [
    {
     "name": "stdout",
     "output_type": "stream",
     "text": [
      "Training accuracy on the 0th step: 0.140625\n",
      "Training accuracy on the 100th step: 0.828125\n",
      "Training accuracy on the 200th step: 0.88671875\n",
      "Starting new epoch...\n",
      "Training accuracy on the 300th step: 0.84765625\n",
      "Training accuracy on the 400th step: 0.9453125\n",
      "Starting new epoch...\n",
      "Training accuracy on the 500th step: 0.97265625\n",
      "Training accuracy on the 600th step: 0.96875\n",
      "Training accuracy on the 700th step: 0.95703125\n",
      "Starting new epoch...\n",
      "Training accuracy on the 800th step: 0.97265625\n",
      "Training accuracy on the 900th step: 0.98828125\n",
      "Starting new epoch...\n",
      "Final test accuracy: [0.94750017, 0.17990339]\n"
     ]
    }
   ],
   "source": [
    "tf.reset_default_graph()\n",
    "\n",
    "tb_dir = 'summaries/itworks'\n",
    "\n",
    "# get the data\n",
    "mnist = MNISTDataset(\"mnist_data\", batch_size=256, seed=int(time()))\n",
    "\n",
    "# define the model first, from input to output\n",
    "imgs = tf.placeholder(tf.float32, shape=[None, 28*28])\n",
    "\n",
    "n_hidden = 100\n",
    "n_layers = 8\n",
    "w_range = 0.1\n",
    "hidden = imgs\n",
    "\n",
    "for layer in range(n_layers):\n",
    "    name = \"hidden_{}\".format(layer)\n",
    "    hidden = tf.layers.dense(hidden, n_hidden, activation=tf.nn.relu,\n",
    "                             #kernel_initializer=tf.random_uniform_initializer(minval=-w_range, maxval=w_range),\n",
    "                             kernel_initializer=tf.contrib.layers.xavier_initializer(\n",
    "                                 uniform=True),\n",
    "                             bias_initializer=tf.constant_initializer(0.01), name=name)\n",
    "    tf.summary.histogram(name + \"_hist\", hidden)\n",
    "logits = tf.layers.dense(hidden, 10, kernel_initializer=tf.random_uniform_initializer(minval=-w_range, maxval=w_range),\n",
    "                         bias_initializer=tf.zeros_initializer, name=\"logits\")\n",
    "\n",
    "\n",
    "# create the cost and a single training step based on that\n",
    "labels = tf.placeholder(tf.uint8, [None])\n",
    "labels_onehot = tf.one_hot(indices=labels, depth=10)\n",
    "\n",
    "cross_entropy = tf.reduce_mean(tf.nn.softmax_cross_entropy_with_logits(labels=labels_onehot, logits=logits))\n",
    "tf.summary.scalar(\"cost\", cross_entropy)\n",
    "\n",
    "optimizer = tf.train.GradientDescentOptimizer(learning_rate=0.03)\n",
    "for g, v in optimizer.compute_gradients(cross_entropy):\n",
    "    if 'kernel' in v.name:\n",
    "        tf.summary.scalar(\"grad_{}\".format(v.name.replace(':','_')), tf.norm(g))\n",
    "train_step = optimizer.minimize(cross_entropy)\n",
    "\n",
    "\n",
    "# evaluation measures\n",
    "correct_prediction = tf.equal(tf.argmax(logits, 1), tf.argmax(labels_onehot, 1))\n",
    "accuracy = tf.reduce_mean(tf.cast(correct_prediction, tf.float32))\n",
    "tf.summary.scalar(\"accuracy\", accuracy)\n",
    "merged = tf.summary.merge_all()\n",
    "\n",
    "# train!\n",
    "with tf.Session() as sess:\n",
    "    writer = tf.summary.FileWriter(tb_dir, sess.graph)\n",
    "\n",
    "    sess.run(tf.global_variables_initializer())\n",
    "    for step in range(1000):\n",
    "        batch_xs, batch_ys = mnist.next_batch()\n",
    "        stats, _ = sess.run([merged, train_step], feed_dict={imgs: batch_xs, labels: batch_ys})\n",
    "        writer.add_summary(stats, step)\n",
    "        if step % 100 == 0:\n",
    "            train_acc, _ = sess.run([accuracy, cross_entropy], feed_dict={imgs: batch_xs, labels: batch_ys})\n",
    "            print(\"Training accuracy on the {}th step: {}\".format(step, train_acc))\n",
    "\n",
    "    # now evaluate\n",
    "    print(\"Final test accuracy: {}\".format(sess.run([accuracy, cross_entropy],\n",
    "                                                    feed_dict={imgs: mnist.test_data, labels: mnist.test_labels})))"
   ]
  },
  {
   "cell_type": "markdown",
   "metadata": {},
   "source": [
    "## Failure 1"
   ]
  },
  {
   "cell_type": "code",
   "execution_count": 64,
   "metadata": {
    "scrolled": false
   },
   "outputs": [
    {
     "name": "stdout",
     "output_type": "stream",
     "text": [
      "INFO:tensorflow:Summary name grad_hidden_0/kernel:0 is illegal; using grad_hidden_0/kernel_0 instead.\n"
     ]
    },
    {
     "name": "stderr",
     "output_type": "stream",
     "text": [
      "INFO:tensorflow:Summary name grad_hidden_0/kernel:0 is illegal; using grad_hidden_0/kernel_0 instead.\n"
     ]
    },
    {
     "name": "stdout",
     "output_type": "stream",
     "text": [
      "INFO:tensorflow:Summary name grad_hidden_0/bias:0 is illegal; using grad_hidden_0/bias_0 instead.\n"
     ]
    },
    {
     "name": "stderr",
     "output_type": "stream",
     "text": [
      "INFO:tensorflow:Summary name grad_hidden_0/bias:0 is illegal; using grad_hidden_0/bias_0 instead.\n"
     ]
    },
    {
     "name": "stdout",
     "output_type": "stream",
     "text": [
      "INFO:tensorflow:Summary name grad_hidden_1/kernel:0 is illegal; using grad_hidden_1/kernel_0 instead.\n"
     ]
    },
    {
     "name": "stderr",
     "output_type": "stream",
     "text": [
      "INFO:tensorflow:Summary name grad_hidden_1/kernel:0 is illegal; using grad_hidden_1/kernel_0 instead.\n"
     ]
    },
    {
     "name": "stdout",
     "output_type": "stream",
     "text": [
      "INFO:tensorflow:Summary name grad_hidden_1/bias:0 is illegal; using grad_hidden_1/bias_0 instead.\n"
     ]
    },
    {
     "name": "stderr",
     "output_type": "stream",
     "text": [
      "INFO:tensorflow:Summary name grad_hidden_1/bias:0 is illegal; using grad_hidden_1/bias_0 instead.\n"
     ]
    },
    {
     "name": "stdout",
     "output_type": "stream",
     "text": [
      "INFO:tensorflow:Summary name grad_hidden_2/kernel:0 is illegal; using grad_hidden_2/kernel_0 instead.\n"
     ]
    },
    {
     "name": "stderr",
     "output_type": "stream",
     "text": [
      "INFO:tensorflow:Summary name grad_hidden_2/kernel:0 is illegal; using grad_hidden_2/kernel_0 instead.\n"
     ]
    },
    {
     "name": "stdout",
     "output_type": "stream",
     "text": [
      "INFO:tensorflow:Summary name grad_hidden_2/bias:0 is illegal; using grad_hidden_2/bias_0 instead.\n"
     ]
    },
    {
     "name": "stderr",
     "output_type": "stream",
     "text": [
      "INFO:tensorflow:Summary name grad_hidden_2/bias:0 is illegal; using grad_hidden_2/bias_0 instead.\n"
     ]
    },
    {
     "name": "stdout",
     "output_type": "stream",
     "text": [
      "INFO:tensorflow:Summary name grad_hidden_3/kernel:0 is illegal; using grad_hidden_3/kernel_0 instead.\n"
     ]
    },
    {
     "name": "stderr",
     "output_type": "stream",
     "text": [
      "INFO:tensorflow:Summary name grad_hidden_3/kernel:0 is illegal; using grad_hidden_3/kernel_0 instead.\n"
     ]
    },
    {
     "name": "stdout",
     "output_type": "stream",
     "text": [
      "INFO:tensorflow:Summary name grad_hidden_3/bias:0 is illegal; using grad_hidden_3/bias_0 instead.\n"
     ]
    },
    {
     "name": "stderr",
     "output_type": "stream",
     "text": [
      "INFO:tensorflow:Summary name grad_hidden_3/bias:0 is illegal; using grad_hidden_3/bias_0 instead.\n"
     ]
    },
    {
     "name": "stdout",
     "output_type": "stream",
     "text": [
      "INFO:tensorflow:Summary name grad_hidden_4/kernel:0 is illegal; using grad_hidden_4/kernel_0 instead.\n"
     ]
    },
    {
     "name": "stderr",
     "output_type": "stream",
     "text": [
      "INFO:tensorflow:Summary name grad_hidden_4/kernel:0 is illegal; using grad_hidden_4/kernel_0 instead.\n"
     ]
    },
    {
     "name": "stdout",
     "output_type": "stream",
     "text": [
      "INFO:tensorflow:Summary name grad_hidden_4/bias:0 is illegal; using grad_hidden_4/bias_0 instead.\n"
     ]
    },
    {
     "name": "stderr",
     "output_type": "stream",
     "text": [
      "INFO:tensorflow:Summary name grad_hidden_4/bias:0 is illegal; using grad_hidden_4/bias_0 instead.\n"
     ]
    },
    {
     "name": "stdout",
     "output_type": "stream",
     "text": [
      "INFO:tensorflow:Summary name grad_hidden_5/kernel:0 is illegal; using grad_hidden_5/kernel_0 instead.\n"
     ]
    },
    {
     "name": "stderr",
     "output_type": "stream",
     "text": [
      "INFO:tensorflow:Summary name grad_hidden_5/kernel:0 is illegal; using grad_hidden_5/kernel_0 instead.\n"
     ]
    },
    {
     "name": "stdout",
     "output_type": "stream",
     "text": [
      "INFO:tensorflow:Summary name grad_hidden_5/bias:0 is illegal; using grad_hidden_5/bias_0 instead.\n"
     ]
    },
    {
     "name": "stderr",
     "output_type": "stream",
     "text": [
      "INFO:tensorflow:Summary name grad_hidden_5/bias:0 is illegal; using grad_hidden_5/bias_0 instead.\n"
     ]
    },
    {
     "name": "stdout",
     "output_type": "stream",
     "text": [
      "INFO:tensorflow:Summary name grad_hidden_6/kernel:0 is illegal; using grad_hidden_6/kernel_0 instead.\n"
     ]
    },
    {
     "name": "stderr",
     "output_type": "stream",
     "text": [
      "INFO:tensorflow:Summary name grad_hidden_6/kernel:0 is illegal; using grad_hidden_6/kernel_0 instead.\n"
     ]
    },
    {
     "name": "stdout",
     "output_type": "stream",
     "text": [
      "INFO:tensorflow:Summary name grad_hidden_6/bias:0 is illegal; using grad_hidden_6/bias_0 instead.\n"
     ]
    },
    {
     "name": "stderr",
     "output_type": "stream",
     "text": [
      "INFO:tensorflow:Summary name grad_hidden_6/bias:0 is illegal; using grad_hidden_6/bias_0 instead.\n"
     ]
    },
    {
     "name": "stdout",
     "output_type": "stream",
     "text": [
      "INFO:tensorflow:Summary name grad_hidden_7/kernel:0 is illegal; using grad_hidden_7/kernel_0 instead.\n"
     ]
    },
    {
     "name": "stderr",
     "output_type": "stream",
     "text": [
      "INFO:tensorflow:Summary name grad_hidden_7/kernel:0 is illegal; using grad_hidden_7/kernel_0 instead.\n"
     ]
    },
    {
     "name": "stdout",
     "output_type": "stream",
     "text": [
      "INFO:tensorflow:Summary name grad_hidden_7/bias:0 is illegal; using grad_hidden_7/bias_0 instead.\n"
     ]
    },
    {
     "name": "stderr",
     "output_type": "stream",
     "text": [
      "INFO:tensorflow:Summary name grad_hidden_7/bias:0 is illegal; using grad_hidden_7/bias_0 instead.\n"
     ]
    },
    {
     "name": "stdout",
     "output_type": "stream",
     "text": [
      "INFO:tensorflow:Summary name grad_logits/kernel:0 is illegal; using grad_logits/kernel_0 instead.\n"
     ]
    },
    {
     "name": "stderr",
     "output_type": "stream",
     "text": [
      "INFO:tensorflow:Summary name grad_logits/kernel:0 is illegal; using grad_logits/kernel_0 instead.\n"
     ]
    },
    {
     "name": "stdout",
     "output_type": "stream",
     "text": [
      "INFO:tensorflow:Summary name grad_logits/bias:0 is illegal; using grad_logits/bias_0 instead.\n"
     ]
    },
    {
     "name": "stderr",
     "output_type": "stream",
     "text": [
      "INFO:tensorflow:Summary name grad_logits/bias:0 is illegal; using grad_logits/bias_0 instead.\n"
     ]
    },
    {
     "name": "stdout",
     "output_type": "stream",
     "text": [
      "Training accuracy on the 0th step: [0.13671875, 182.54266]\n"
     ]
    },
    {
     "ename": "InvalidArgumentError",
     "evalue": "Infinity in summary histogram for: hidden3/hidden_3\n\t [[Node: hidden3/hidden_3 = HistogramSummary[T=DT_FLOAT, _device=\"/job:localhost/replica:0/task:0/cpu:0\"](hidden3/hidden_3/tag, hidden_3/Relu/_73)]]\n\nCaused by op 'hidden3/hidden_3', defined at:\n  File \"/usr/lib/python3.5/runpy.py\", line 184, in _run_module_as_main\n    \"__main__\", mod_spec)\n  File \"/usr/lib/python3.5/runpy.py\", line 85, in _run_code\n    exec(code, run_globals)\n  File \"/usr/local/lib/python3.5/dist-packages/ipykernel_launcher.py\", line 16, in <module>\n    app.launch_new_instance()\n  File \"/usr/local/lib/python3.5/dist-packages/traitlets/config/application.py\", line 658, in launch_instance\n    app.start()\n  File \"/usr/local/lib/python3.5/dist-packages/ipykernel/kernelapp.py\", line 477, in start\n    ioloop.IOLoop.instance().start()\n  File \"/usr/local/lib/python3.5/dist-packages/zmq/eventloop/ioloop.py\", line 177, in start\n    super(ZMQIOLoop, self).start()\n  File \"/usr/local/lib/python3.5/dist-packages/tornado/ioloop.py\", line 888, in start\n    handler_func(fd_obj, events)\n  File \"/usr/local/lib/python3.5/dist-packages/tornado/stack_context.py\", line 277, in null_wrapper\n    return fn(*args, **kwargs)\n  File \"/usr/local/lib/python3.5/dist-packages/zmq/eventloop/zmqstream.py\", line 440, in _handle_events\n    self._handle_recv()\n  File \"/usr/local/lib/python3.5/dist-packages/zmq/eventloop/zmqstream.py\", line 472, in _handle_recv\n    self._run_callback(callback, msg)\n  File \"/usr/local/lib/python3.5/dist-packages/zmq/eventloop/zmqstream.py\", line 414, in _run_callback\n    callback(*args, **kwargs)\n  File \"/usr/local/lib/python3.5/dist-packages/tornado/stack_context.py\", line 277, in null_wrapper\n    return fn(*args, **kwargs)\n  File \"/usr/local/lib/python3.5/dist-packages/ipykernel/kernelbase.py\", line 283, in dispatcher\n    return self.dispatch_shell(stream, msg)\n  File \"/usr/local/lib/python3.5/dist-packages/ipykernel/kernelbase.py\", line 235, in dispatch_shell\n    handler(stream, idents, msg)\n  File \"/usr/local/lib/python3.5/dist-packages/ipykernel/kernelbase.py\", line 399, in execute_request\n    user_expressions, allow_stdin)\n  File \"/usr/local/lib/python3.5/dist-packages/ipykernel/ipkernel.py\", line 196, in do_execute\n    res = shell.run_cell(code, store_history=store_history, silent=silent)\n  File \"/usr/local/lib/python3.5/dist-packages/ipykernel/zmqshell.py\", line 533, in run_cell\n    return super(ZMQInteractiveShell, self).run_cell(*args, **kwargs)\n  File \"/usr/local/lib/python3.5/dist-packages/IPython/core/interactiveshell.py\", line 2728, in run_cell\n    interactivity=interactivity, compiler=compiler, result=result)\n  File \"/usr/local/lib/python3.5/dist-packages/IPython/core/interactiveshell.py\", line 2850, in run_ast_nodes\n    if self.run_code(code, result):\n  File \"/usr/local/lib/python3.5/dist-packages/IPython/core/interactiveshell.py\", line 2910, in run_code\n    exec(code_obj, self.user_global_ns, self.user_ns)\n  File \"<ipython-input-64-7cb14f620324>\", line 22, in <module>\n    tf.summary.histogram(name, hidden)\n  File \"/usr/local/lib/python3.5/dist-packages/tensorflow/python/summary/summary.py\", line 192, in histogram\n    tag=tag, values=values, name=scope)\n  File \"/usr/local/lib/python3.5/dist-packages/tensorflow/python/ops/gen_logging_ops.py\", line 129, in _histogram_summary\n    name=name)\n  File \"/usr/local/lib/python3.5/dist-packages/tensorflow/python/framework/op_def_library.py\", line 767, in apply_op\n    op_def=op_def)\n  File \"/usr/local/lib/python3.5/dist-packages/tensorflow/python/framework/ops.py\", line 2630, in create_op\n    original_op=self._default_original_op, op_def=op_def)\n  File \"/usr/local/lib/python3.5/dist-packages/tensorflow/python/framework/ops.py\", line 1204, in __init__\n    self._traceback = self._graph._extract_stack()  # pylint: disable=protected-access\n\nInvalidArgumentError (see above for traceback): Infinity in summary histogram for: hidden3/hidden_3\n\t [[Node: hidden3/hidden_3 = HistogramSummary[T=DT_FLOAT, _device=\"/job:localhost/replica:0/task:0/cpu:0\"](hidden3/hidden_3/tag, hidden_3/Relu/_73)]]\n",
     "output_type": "error",
     "traceback": [
      "\u001b[0;31m---------------------------------------------------------------------------\u001b[0m",
      "\u001b[0;31mInvalidArgumentError\u001b[0m                      Traceback (most recent call last)",
      "\u001b[0;32m/usr/local/lib/python3.5/dist-packages/tensorflow/python/client/session.py\u001b[0m in \u001b[0;36m_do_call\u001b[0;34m(self, fn, *args)\u001b[0m\n\u001b[1;32m   1326\u001b[0m     \u001b[0;32mtry\u001b[0m\u001b[0;34m:\u001b[0m\u001b[0;34m\u001b[0m\u001b[0m\n\u001b[0;32m-> 1327\u001b[0;31m       \u001b[0;32mreturn\u001b[0m \u001b[0mfn\u001b[0m\u001b[0;34m(\u001b[0m\u001b[0;34m*\u001b[0m\u001b[0margs\u001b[0m\u001b[0;34m)\u001b[0m\u001b[0;34m\u001b[0m\u001b[0m\n\u001b[0m\u001b[1;32m   1328\u001b[0m     \u001b[0;32mexcept\u001b[0m \u001b[0merrors\u001b[0m\u001b[0;34m.\u001b[0m\u001b[0mOpError\u001b[0m \u001b[0;32mas\u001b[0m \u001b[0me\u001b[0m\u001b[0;34m:\u001b[0m\u001b[0;34m\u001b[0m\u001b[0m\n",
      "\u001b[0;32m/usr/local/lib/python3.5/dist-packages/tensorflow/python/client/session.py\u001b[0m in \u001b[0;36m_run_fn\u001b[0;34m(session, feed_dict, fetch_list, target_list, options, run_metadata)\u001b[0m\n\u001b[1;32m   1305\u001b[0m                                    \u001b[0mfeed_dict\u001b[0m\u001b[0;34m,\u001b[0m \u001b[0mfetch_list\u001b[0m\u001b[0;34m,\u001b[0m \u001b[0mtarget_list\u001b[0m\u001b[0;34m,\u001b[0m\u001b[0;34m\u001b[0m\u001b[0m\n\u001b[0;32m-> 1306\u001b[0;31m                                    status, run_metadata)\n\u001b[0m\u001b[1;32m   1307\u001b[0m \u001b[0;34m\u001b[0m\u001b[0m\n",
      "\u001b[0;32m/usr/lib/python3.5/contextlib.py\u001b[0m in \u001b[0;36m__exit__\u001b[0;34m(self, type, value, traceback)\u001b[0m\n\u001b[1;32m     65\u001b[0m             \u001b[0;32mtry\u001b[0m\u001b[0;34m:\u001b[0m\u001b[0;34m\u001b[0m\u001b[0m\n\u001b[0;32m---> 66\u001b[0;31m                 \u001b[0mnext\u001b[0m\u001b[0;34m(\u001b[0m\u001b[0mself\u001b[0m\u001b[0;34m.\u001b[0m\u001b[0mgen\u001b[0m\u001b[0;34m)\u001b[0m\u001b[0;34m\u001b[0m\u001b[0m\n\u001b[0m\u001b[1;32m     67\u001b[0m             \u001b[0;32mexcept\u001b[0m \u001b[0mStopIteration\u001b[0m\u001b[0;34m:\u001b[0m\u001b[0;34m\u001b[0m\u001b[0m\n",
      "\u001b[0;32m/usr/local/lib/python3.5/dist-packages/tensorflow/python/framework/errors_impl.py\u001b[0m in \u001b[0;36mraise_exception_on_not_ok_status\u001b[0;34m()\u001b[0m\n\u001b[1;32m    465\u001b[0m           \u001b[0mcompat\u001b[0m\u001b[0;34m.\u001b[0m\u001b[0mas_text\u001b[0m\u001b[0;34m(\u001b[0m\u001b[0mpywrap_tensorflow\u001b[0m\u001b[0;34m.\u001b[0m\u001b[0mTF_Message\u001b[0m\u001b[0;34m(\u001b[0m\u001b[0mstatus\u001b[0m\u001b[0;34m)\u001b[0m\u001b[0;34m)\u001b[0m\u001b[0;34m,\u001b[0m\u001b[0;34m\u001b[0m\u001b[0m\n\u001b[0;32m--> 466\u001b[0;31m           pywrap_tensorflow.TF_GetCode(status))\n\u001b[0m\u001b[1;32m    467\u001b[0m   \u001b[0;32mfinally\u001b[0m\u001b[0;34m:\u001b[0m\u001b[0;34m\u001b[0m\u001b[0m\n",
      "\u001b[0;31mInvalidArgumentError\u001b[0m: Infinity in summary histogram for: hidden3/hidden_3\n\t [[Node: hidden3/hidden_3 = HistogramSummary[T=DT_FLOAT, _device=\"/job:localhost/replica:0/task:0/cpu:0\"](hidden3/hidden_3/tag, hidden_3/Relu/_73)]]",
      "\nDuring handling of the above exception, another exception occurred:\n",
      "\u001b[0;31mInvalidArgumentError\u001b[0m                      Traceback (most recent call last)",
      "\u001b[0;32m<ipython-input-64-7cb14f620324>\u001b[0m in \u001b[0;36m<module>\u001b[0;34m()\u001b[0m\n\u001b[1;32m     53\u001b[0m     \u001b[0;32mfor\u001b[0m \u001b[0mstep\u001b[0m \u001b[0;32min\u001b[0m \u001b[0mrange\u001b[0m\u001b[0;34m(\u001b[0m\u001b[0;36m1000\u001b[0m\u001b[0;34m)\u001b[0m\u001b[0;34m:\u001b[0m\u001b[0;34m\u001b[0m\u001b[0m\n\u001b[1;32m     54\u001b[0m         \u001b[0mbatch_xs\u001b[0m\u001b[0;34m,\u001b[0m \u001b[0mbatch_ys\u001b[0m \u001b[0;34m=\u001b[0m \u001b[0mmnist\u001b[0m\u001b[0;34m.\u001b[0m\u001b[0mnext_batch\u001b[0m\u001b[0;34m(\u001b[0m\u001b[0;34m)\u001b[0m\u001b[0;34m\u001b[0m\u001b[0m\n\u001b[0;32m---> 55\u001b[0;31m         \u001b[0mstats\u001b[0m\u001b[0;34m,\u001b[0m \u001b[0m_\u001b[0m \u001b[0;34m=\u001b[0m \u001b[0msess\u001b[0m\u001b[0;34m.\u001b[0m\u001b[0mrun\u001b[0m\u001b[0;34m(\u001b[0m\u001b[0;34m[\u001b[0m\u001b[0mmerged\u001b[0m\u001b[0;34m,\u001b[0m \u001b[0mtrain_step\u001b[0m\u001b[0;34m]\u001b[0m\u001b[0;34m,\u001b[0m \u001b[0mfeed_dict\u001b[0m\u001b[0;34m=\u001b[0m\u001b[0;34m{\u001b[0m\u001b[0mimgs\u001b[0m\u001b[0;34m:\u001b[0m \u001b[0mbatch_xs\u001b[0m\u001b[0;34m,\u001b[0m \u001b[0mlabels\u001b[0m\u001b[0;34m:\u001b[0m \u001b[0mbatch_ys\u001b[0m\u001b[0;34m}\u001b[0m\u001b[0;34m)\u001b[0m\u001b[0;34m\u001b[0m\u001b[0m\n\u001b[0m\u001b[1;32m     56\u001b[0m         \u001b[0mwriter\u001b[0m\u001b[0;34m.\u001b[0m\u001b[0madd_summary\u001b[0m\u001b[0;34m(\u001b[0m\u001b[0mstats\u001b[0m\u001b[0;34m,\u001b[0m \u001b[0mstep\u001b[0m\u001b[0;34m)\u001b[0m\u001b[0;34m\u001b[0m\u001b[0m\n\u001b[1;32m     57\u001b[0m         \u001b[0;32mif\u001b[0m \u001b[0mstep\u001b[0m \u001b[0;34m%\u001b[0m \u001b[0;36m100\u001b[0m \u001b[0;34m==\u001b[0m \u001b[0;36m0\u001b[0m\u001b[0;34m:\u001b[0m\u001b[0;34m\u001b[0m\u001b[0m\n",
      "\u001b[0;32m/usr/local/lib/python3.5/dist-packages/tensorflow/python/client/session.py\u001b[0m in \u001b[0;36mrun\u001b[0;34m(self, fetches, feed_dict, options, run_metadata)\u001b[0m\n\u001b[1;32m    893\u001b[0m     \u001b[0;32mtry\u001b[0m\u001b[0;34m:\u001b[0m\u001b[0;34m\u001b[0m\u001b[0m\n\u001b[1;32m    894\u001b[0m       result = self._run(None, fetches, feed_dict, options_ptr,\n\u001b[0;32m--> 895\u001b[0;31m                          run_metadata_ptr)\n\u001b[0m\u001b[1;32m    896\u001b[0m       \u001b[0;32mif\u001b[0m \u001b[0mrun_metadata\u001b[0m\u001b[0;34m:\u001b[0m\u001b[0;34m\u001b[0m\u001b[0m\n\u001b[1;32m    897\u001b[0m         \u001b[0mproto_data\u001b[0m \u001b[0;34m=\u001b[0m \u001b[0mtf_session\u001b[0m\u001b[0;34m.\u001b[0m\u001b[0mTF_GetBuffer\u001b[0m\u001b[0;34m(\u001b[0m\u001b[0mrun_metadata_ptr\u001b[0m\u001b[0;34m)\u001b[0m\u001b[0;34m\u001b[0m\u001b[0m\n",
      "\u001b[0;32m/usr/local/lib/python3.5/dist-packages/tensorflow/python/client/session.py\u001b[0m in \u001b[0;36m_run\u001b[0;34m(self, handle, fetches, feed_dict, options, run_metadata)\u001b[0m\n\u001b[1;32m   1122\u001b[0m     \u001b[0;32mif\u001b[0m \u001b[0mfinal_fetches\u001b[0m \u001b[0;32mor\u001b[0m \u001b[0mfinal_targets\u001b[0m \u001b[0;32mor\u001b[0m \u001b[0;34m(\u001b[0m\u001b[0mhandle\u001b[0m \u001b[0;32mand\u001b[0m \u001b[0mfeed_dict_tensor\u001b[0m\u001b[0;34m)\u001b[0m\u001b[0;34m:\u001b[0m\u001b[0;34m\u001b[0m\u001b[0m\n\u001b[1;32m   1123\u001b[0m       results = self._do_run(handle, final_targets, final_fetches,\n\u001b[0;32m-> 1124\u001b[0;31m                              feed_dict_tensor, options, run_metadata)\n\u001b[0m\u001b[1;32m   1125\u001b[0m     \u001b[0;32melse\u001b[0m\u001b[0;34m:\u001b[0m\u001b[0;34m\u001b[0m\u001b[0m\n\u001b[1;32m   1126\u001b[0m       \u001b[0mresults\u001b[0m \u001b[0;34m=\u001b[0m \u001b[0;34m[\u001b[0m\u001b[0;34m]\u001b[0m\u001b[0;34m\u001b[0m\u001b[0m\n",
      "\u001b[0;32m/usr/local/lib/python3.5/dist-packages/tensorflow/python/client/session.py\u001b[0m in \u001b[0;36m_do_run\u001b[0;34m(self, handle, target_list, fetch_list, feed_dict, options, run_metadata)\u001b[0m\n\u001b[1;32m   1319\u001b[0m     \u001b[0;32mif\u001b[0m \u001b[0mhandle\u001b[0m \u001b[0;32mis\u001b[0m \u001b[0;32mNone\u001b[0m\u001b[0;34m:\u001b[0m\u001b[0;34m\u001b[0m\u001b[0m\n\u001b[1;32m   1320\u001b[0m       return self._do_call(_run_fn, self._session, feeds, fetches, targets,\n\u001b[0;32m-> 1321\u001b[0;31m                            options, run_metadata)\n\u001b[0m\u001b[1;32m   1322\u001b[0m     \u001b[0;32melse\u001b[0m\u001b[0;34m:\u001b[0m\u001b[0;34m\u001b[0m\u001b[0m\n\u001b[1;32m   1323\u001b[0m       \u001b[0;32mreturn\u001b[0m \u001b[0mself\u001b[0m\u001b[0;34m.\u001b[0m\u001b[0m_do_call\u001b[0m\u001b[0;34m(\u001b[0m\u001b[0m_prun_fn\u001b[0m\u001b[0;34m,\u001b[0m \u001b[0mself\u001b[0m\u001b[0;34m.\u001b[0m\u001b[0m_session\u001b[0m\u001b[0;34m,\u001b[0m \u001b[0mhandle\u001b[0m\u001b[0;34m,\u001b[0m \u001b[0mfeeds\u001b[0m\u001b[0;34m,\u001b[0m \u001b[0mfetches\u001b[0m\u001b[0;34m)\u001b[0m\u001b[0;34m\u001b[0m\u001b[0m\n",
      "\u001b[0;32m/usr/local/lib/python3.5/dist-packages/tensorflow/python/client/session.py\u001b[0m in \u001b[0;36m_do_call\u001b[0;34m(self, fn, *args)\u001b[0m\n\u001b[1;32m   1338\u001b[0m         \u001b[0;32mexcept\u001b[0m \u001b[0mKeyError\u001b[0m\u001b[0;34m:\u001b[0m\u001b[0;34m\u001b[0m\u001b[0m\n\u001b[1;32m   1339\u001b[0m           \u001b[0;32mpass\u001b[0m\u001b[0;34m\u001b[0m\u001b[0m\n\u001b[0;32m-> 1340\u001b[0;31m       \u001b[0;32mraise\u001b[0m \u001b[0mtype\u001b[0m\u001b[0;34m(\u001b[0m\u001b[0me\u001b[0m\u001b[0;34m)\u001b[0m\u001b[0;34m(\u001b[0m\u001b[0mnode_def\u001b[0m\u001b[0;34m,\u001b[0m \u001b[0mop\u001b[0m\u001b[0;34m,\u001b[0m \u001b[0mmessage\u001b[0m\u001b[0;34m)\u001b[0m\u001b[0;34m\u001b[0m\u001b[0m\n\u001b[0m\u001b[1;32m   1341\u001b[0m \u001b[0;34m\u001b[0m\u001b[0m\n\u001b[1;32m   1342\u001b[0m   \u001b[0;32mdef\u001b[0m \u001b[0m_extend_graph\u001b[0m\u001b[0;34m(\u001b[0m\u001b[0mself\u001b[0m\u001b[0;34m)\u001b[0m\u001b[0;34m:\u001b[0m\u001b[0;34m\u001b[0m\u001b[0m\n",
      "\u001b[0;31mInvalidArgumentError\u001b[0m: Infinity in summary histogram for: hidden3/hidden_3\n\t [[Node: hidden3/hidden_3 = HistogramSummary[T=DT_FLOAT, _device=\"/job:localhost/replica:0/task:0/cpu:0\"](hidden3/hidden_3/tag, hidden_3/Relu/_73)]]\n\nCaused by op 'hidden3/hidden_3', defined at:\n  File \"/usr/lib/python3.5/runpy.py\", line 184, in _run_module_as_main\n    \"__main__\", mod_spec)\n  File \"/usr/lib/python3.5/runpy.py\", line 85, in _run_code\n    exec(code, run_globals)\n  File \"/usr/local/lib/python3.5/dist-packages/ipykernel_launcher.py\", line 16, in <module>\n    app.launch_new_instance()\n  File \"/usr/local/lib/python3.5/dist-packages/traitlets/config/application.py\", line 658, in launch_instance\n    app.start()\n  File \"/usr/local/lib/python3.5/dist-packages/ipykernel/kernelapp.py\", line 477, in start\n    ioloop.IOLoop.instance().start()\n  File \"/usr/local/lib/python3.5/dist-packages/zmq/eventloop/ioloop.py\", line 177, in start\n    super(ZMQIOLoop, self).start()\n  File \"/usr/local/lib/python3.5/dist-packages/tornado/ioloop.py\", line 888, in start\n    handler_func(fd_obj, events)\n  File \"/usr/local/lib/python3.5/dist-packages/tornado/stack_context.py\", line 277, in null_wrapper\n    return fn(*args, **kwargs)\n  File \"/usr/local/lib/python3.5/dist-packages/zmq/eventloop/zmqstream.py\", line 440, in _handle_events\n    self._handle_recv()\n  File \"/usr/local/lib/python3.5/dist-packages/zmq/eventloop/zmqstream.py\", line 472, in _handle_recv\n    self._run_callback(callback, msg)\n  File \"/usr/local/lib/python3.5/dist-packages/zmq/eventloop/zmqstream.py\", line 414, in _run_callback\n    callback(*args, **kwargs)\n  File \"/usr/local/lib/python3.5/dist-packages/tornado/stack_context.py\", line 277, in null_wrapper\n    return fn(*args, **kwargs)\n  File \"/usr/local/lib/python3.5/dist-packages/ipykernel/kernelbase.py\", line 283, in dispatcher\n    return self.dispatch_shell(stream, msg)\n  File \"/usr/local/lib/python3.5/dist-packages/ipykernel/kernelbase.py\", line 235, in dispatch_shell\n    handler(stream, idents, msg)\n  File \"/usr/local/lib/python3.5/dist-packages/ipykernel/kernelbase.py\", line 399, in execute_request\n    user_expressions, allow_stdin)\n  File \"/usr/local/lib/python3.5/dist-packages/ipykernel/ipkernel.py\", line 196, in do_execute\n    res = shell.run_cell(code, store_history=store_history, silent=silent)\n  File \"/usr/local/lib/python3.5/dist-packages/ipykernel/zmqshell.py\", line 533, in run_cell\n    return super(ZMQInteractiveShell, self).run_cell(*args, **kwargs)\n  File \"/usr/local/lib/python3.5/dist-packages/IPython/core/interactiveshell.py\", line 2728, in run_cell\n    interactivity=interactivity, compiler=compiler, result=result)\n  File \"/usr/local/lib/python3.5/dist-packages/IPython/core/interactiveshell.py\", line 2850, in run_ast_nodes\n    if self.run_code(code, result):\n  File \"/usr/local/lib/python3.5/dist-packages/IPython/core/interactiveshell.py\", line 2910, in run_code\n    exec(code_obj, self.user_global_ns, self.user_ns)\n  File \"<ipython-input-64-7cb14f620324>\", line 22, in <module>\n    tf.summary.histogram(name, hidden)\n  File \"/usr/local/lib/python3.5/dist-packages/tensorflow/python/summary/summary.py\", line 192, in histogram\n    tag=tag, values=values, name=scope)\n  File \"/usr/local/lib/python3.5/dist-packages/tensorflow/python/ops/gen_logging_ops.py\", line 129, in _histogram_summary\n    name=name)\n  File \"/usr/local/lib/python3.5/dist-packages/tensorflow/python/framework/op_def_library.py\", line 767, in apply_op\n    op_def=op_def)\n  File \"/usr/local/lib/python3.5/dist-packages/tensorflow/python/framework/ops.py\", line 2630, in create_op\n    original_op=self._default_original_op, op_def=op_def)\n  File \"/usr/local/lib/python3.5/dist-packages/tensorflow/python/framework/ops.py\", line 1204, in __init__\n    self._traceback = self._graph._extract_stack()  # pylint: disable=protected-access\n\nInvalidArgumentError (see above for traceback): Infinity in summary histogram for: hidden3/hidden_3\n\t [[Node: hidden3/hidden_3 = HistogramSummary[T=DT_FLOAT, _device=\"/job:localhost/replica:0/task:0/cpu:0\"](hidden3/hidden_3/tag, hidden_3/Relu/_73)]]\n"
     ]
    }
   ],
   "source": [
    "tf.reset_default_graph() \n",
    "tb_dir = 'summaries/ex1'\n",
    "\n",
    "# get the data\n",
    "mnist = MNISTDataset(\"mnist_data\", batch_size=256, seed=int(time()))\n",
    "\n",
    "\n",
    "# define the model first, from input to output\n",
    "imgs = tf.placeholder(tf.float32, shape=[None, 28*28])\n",
    "\n",
    "n_hidden = 100\n",
    "n_layers = 8\n",
    "w_range = 0.15\n",
    "hidden = imgs\n",
    "for layer in range(n_layers):\n",
    "    name = 'hidden_{}'.format(layer)\n",
    "    hidden = tf.layers.dense(\n",
    "            hidden, n_hidden, activation=tf.nn.relu,\n",
    "            kernel_initializer=tf.random_uniform_initializer(minval=-w_range, maxval=w_range),\n",
    "            bias_initializer=tf.constant_initializer(0.01), name=name)\n",
    "    with tf.name_scope('hidden'+str(layer)) as scope:\n",
    "        tf.summary.histogram(name, hidden)\n",
    "\n",
    "logits = tf.layers.dense(hidden, 10,\n",
    "        kernel_initializer=tf.random_uniform_initializer(minval=-w_range, maxval=w_range),\n",
    "        bias_initializer=tf.zeros_initializer, name=\"logits\")\n",
    "\n",
    "\n",
    "# create the cost and a single training step based on that\n",
    "labels = tf.placeholder(tf.uint8, [None])\n",
    "labels_onehot = tf.one_hot(indices=labels, depth=10)\n",
    "\n",
    "cross_entropy = tf.reduce_mean(tf.nn.softmax_cross_entropy_with_logits(labels=labels_onehot, logits=logits))\n",
    "tf.summary.scalar(\"cost\", cross_entropy)\n",
    "\n",
    "optimizer = tf.train.GradientDescentOptimizer(learning_rate=0.1)\n",
    "for g, v in optimizer.compute_gradients(cross_entropy):\n",
    "    tf.summary.scalar(\"grad_{}\".format(v.name.replace(':','_')), tf.norm(g))\n",
    "train_step = optimizer.minimize(cross_entropy)\n",
    "\n",
    "\n",
    "# evaluation measures\n",
    "correct_prediction = tf.equal(tf.argmax(logits, 1), tf.argmax(labels_onehot, 1))\n",
    "accuracy = tf.reduce_mean(tf.cast(correct_prediction, tf.float32))\n",
    "tf.summary.scalar(\"accuracy\", accuracy)\n",
    "merged = tf.summary.merge_all()\n",
    "\n",
    "# train!\n",
    "with tf.Session() as sess:\n",
    "    writer = tf.summary.FileWriter(tb_dir, sess.graph)\n",
    "\n",
    "    sess.run(tf.global_variables_initializer())\n",
    "    for step in range(1000):\n",
    "        batch_xs, batch_ys = mnist.next_batch()\n",
    "        stats, _ = sess.run([merged, train_step], feed_dict={imgs: batch_xs, labels: batch_ys})\n",
    "        writer.add_summary(stats, step)\n",
    "        if step % 100 == 0:\n",
    "            train_acc = sess.run([accuracy, cross_entropy], feed_dict={imgs: batch_xs, labels: batch_ys})\n",
    "            print(\"Training accuracy on the {}th step: {}\".format(step, train_acc))\n",
    "\n",
    "    # now evaluate\n",
    "    print(\"Final test accuracy: {}\".format(sess.run([accuracy, cross_entropy],\n",
    "                                                    feed_dict={imgs: mnist.test_data, labels: mnist.test_labels})))\n"
   ]
  },
  {
   "cell_type": "markdown",
   "metadata": {},
   "source": [
    "## Failure 2"
   ]
  },
  {
   "cell_type": "code",
   "execution_count": null,
   "metadata": {},
   "outputs": [],
   "source": [
    "tf.reset_default_graph()\n",
    "tb_dir = 'summaries/ex2'\n",
    "\n",
    "# get the data\n",
    "mnist = MNISTDataset(\"mnist_data\", batch_size=256, seed=int(time()))\n",
    "\n",
    "# define the model first, from input to output\n",
    "imgs = tf.placeholder(tf.float32, shape=[None, 28*28])\n",
    "\n",
    "n_hidden = 100\n",
    "n_layers = 8\n",
    "w_range = 0.1\n",
    "hidden = imgs\n",
    "for layer in range(n_layers):\n",
    "    name = \"hidden_{}\".format(layer)\n",
    "    with tf.name_scope(name) as scope:\n",
    "        hidden = tf.layers.dense(hidden, n_hidden, activation=tf.nn.sigmoid,\n",
    "                                 kernel_initializer=tf.random_uniform_initializer(minval=-w_range, maxval=w_range),\n",
    "                                 bias_initializer=tf.zeros_initializer, name=name)\n",
    "        tf.summary.histogram(\"histogram\", hidden)\n",
    "logits = tf.layers.dense(hidden, 10, kernel_initializer=tf.random_uniform_initializer(minval=-w_range, maxval=w_range),\n",
    "                         bias_initializer=tf.zeros_initializer, name=\"logits\")\n",
    "\n",
    "\n",
    "# create the cost and a single training step based on that\n",
    "labels = tf.placeholder(tf.uint8, [None])\n",
    "labels_onehot = tf.one_hot(indices=labels, depth=10)\n",
    "\n",
    "cross_entropy = tf.reduce_mean(tf.nn.softmax_cross_entropy_with_logits(labels=labels_onehot, logits=logits))\n",
    "tf.summary.scalar(\"cost\", cross_entropy)\n",
    "\n",
    "optimizer = tf.train.GradientDescentOptimizer(learning_rate=0.03)\n",
    "for g, v in optimizer.compute_gradients(cross_entropy):\n",
    "    if 'kernel' in v.name:\n",
    "        tf.summary.scalar(\"grad_{}\".format(v.name), tf.norm(g))\n",
    "train_step = optimizer.minimize(cross_entropy)\n",
    "\n",
    "\n",
    "# evaluation measures\n",
    "correct_prediction = tf.equal(tf.argmax(logits, 1), tf.argmax(labels_onehot, 1))\n",
    "accuracy = tf.reduce_mean(tf.cast(correct_prediction, tf.float32))\n",
    "tf.summary.scalar(\"accuracy\", accuracy)\n",
    "merged = tf.summary.merge_all()\n",
    "\n",
    "# train!\n",
    "with tf.Session() as sess:\n",
    "    writer = tf.summary.FileWriter(tb_dir, sess.graph)\n",
    "\n",
    "    sess.run(tf.global_variables_initializer())\n",
    "    for step in range(1000):\n",
    "        batch_xs, batch_ys = mnist.next_batch()\n",
    "        stats, _ = sess.run([merged, train_step], feed_dict={imgs: batch_xs, labels: batch_ys})\n",
    "        writer.add_summary(stats, step)\n",
    "        if step % 100 == 0:\n",
    "            train_acc = sess.run([accuracy, cross_entropy], feed_dict={imgs: batch_xs, labels: batch_ys})\n",
    "            print(\"Training accuracy on the {}th step: {}\".format(step, train_acc))\n",
    "\n",
    "    # now evaluate\n",
    "    print(\"Final test accuracy: {}\".format(sess.run([accuracy, cross_entropy],\n",
    "                                                    feed_dict={imgs: mnist.test_data, labels: mnist.test_labels})))"
   ]
  },
  {
   "cell_type": "code",
   "execution_count": 50,
   "metadata": {},
   "outputs": [],
   "source": [
    "def s(x):\n",
    "    return np.power(1. + np.exp(-x), -1.)\n",
    "\n",
    "def ds(x):\n",
    "    return s(x)*(1.-s(x))"
   ]
  },
  {
   "cell_type": "code",
   "execution_count": 55,
   "metadata": {},
   "outputs": [
    {
     "data": {
      "image/png": "[encoded data removed]",
      "text/plain": [
       "<matplotlib.figure.Figure at 0x7f7a8732e3c8>"
      ]
     },
     "metadata": {},
     "output_type": "display_data"
    }
   ],
   "source": [
    "xs = np.linspace(-5, 5, 200)\n",
    "plt.plot(xs, s(xs))\n",
    "# plt.plot(xs, ds(xs), 'r')\n",
    "plt.show()"
   ]
  },
  {
   "cell_type": "markdown",
   "metadata": {},
   "source": [
    "## Failure 3"
   ]
  },
  {
   "cell_type": "code",
   "execution_count": 65,
   "metadata": {},
   "outputs": [
    {
     "name": "stdout",
     "output_type": "stream",
     "text": [
      "Training accuracy on the 0th step: [0.1328125, 2.3024108]\n",
      "Training accuracy on the 100th step: [0.14453125, 2.2994375]\n",
      "Training accuracy on the 200th step: [0.09765625, 2.3022189]\n",
      "Starting new epoch...\n",
      "Training accuracy on the 300th step: [0.10546875, 2.3013077]\n",
      "Training accuracy on the 400th step: [0.12109375, 2.2966061]\n",
      "Starting new epoch...\n",
      "Training accuracy on the 500th step: [0.12890625, 2.3025215]\n",
      "Training accuracy on the 600th step: [0.12890625, 2.2965834]\n",
      "Training accuracy on the 700th step: [0.1015625, 2.3049922]\n",
      "Starting new epoch...\n",
      "Training accuracy on the 800th step: [0.1171875, 2.2996244]\n",
      "Training accuracy on the 900th step: [0.0703125, 2.3059671]\n",
      "Starting new epoch...\n",
      "Final test accuracy: [0.11350001, 2.3010006]\n"
     ]
    }
   ],
   "source": [
    "tf.reset_default_graph()\n",
    "tb_dir = 'summaries/ex3'\n",
    "\n",
    "# get the data\n",
    "mnist = MNISTDataset(\"mnist_data\", batch_size=256, seed=int(time()))\n",
    "\n",
    "\n",
    "# define the model first, from input to output\n",
    "imgs = tf.placeholder(tf.float32, shape=[None, 28*28])\n",
    "\n",
    "hidden1 = tf.layers.dense(imgs, 100, activation=tf.nn.relu,\n",
    "                          kernel_initializer=tf.random_uniform_initializer(minval=-0.01, maxval=0.01),\n",
    "                          bias_initializer=tf.constant_initializer(0.01), name=\"hidden1\")\n",
    "hidden2 = tf.layers.dense(hidden1, 100, activation=tf.nn.relu,\n",
    "                          kernel_initializer=tf.random_uniform_initializer(minval=-0.01, maxval=0.00),\n",
    "                          bias_initializer=tf.constant_initializer(0.01), name=\"hidden2\")\n",
    "\n",
    "\n",
    "logits = tf.layers.dense(hidden2, 10, kernel_initializer=tf.random_uniform_initializer(minval=-0.01, maxval=0.01),\n",
    "                         bias_initializer=tf.zeros_initializer, name=\"logits\")\n",
    "\n",
    "tf.summary.histogram('hidden1', hidden1)\n",
    "tf.summary.histogram('hidden2', hidden2)\n",
    "\n",
    "# create the cost and a single training step based on that\n",
    "labels = tf.placeholder(tf.uint8, [None])\n",
    "labels_onehot = tf.one_hot(indices=labels, depth=10)\n",
    "\n",
    "cross_entropy = tf.reduce_mean(tf.nn.softmax_cross_entropy_with_logits(labels=labels_onehot, logits=logits))\n",
    "tf.summary.scalar(\"cost\", cross_entropy)\n",
    "\n",
    "optimizer = tf.train.AdamOptimizer()\n",
    "for g, v in optimizer.compute_gradients(cross_entropy):\n",
    "    if 'kernel' in v.name:\n",
    "        tf.summary.scalar(\"grad_{}\".format(v.name.replace(':','_')), tf.norm(g))\n",
    "train_step = optimizer.minimize(cross_entropy)\n",
    "\n",
    "\n",
    "# evaluation measures\n",
    "correct_prediction = tf.equal(tf.argmax(logits, 1), tf.argmax(labels_onehot, 1))\n",
    "accuracy = tf.reduce_mean(tf.cast(correct_prediction, tf.float32))\n",
    "tf.summary.scalar(\"accuracy\", accuracy)\n",
    "merged = tf.summary.merge_all()\n",
    "\n",
    "# train!\n",
    "with tf.Session() as sess:\n",
    "    writer = tf.summary.FileWriter(tb_dir, sess.graph)\n",
    "\n",
    "    sess.run(tf.global_variables_initializer())\n",
    "    for step in range(1000):\n",
    "        batch_xs, batch_ys = mnist.next_batch()\n",
    "        stats, _ = sess.run([merged, train_step], feed_dict={imgs: batch_xs, labels: batch_ys})\n",
    "        writer.add_summary(stats, step)\n",
    "        if step % 100 == 0:\n",
    "            train_acc = sess.run([accuracy, cross_entropy], feed_dict={imgs: batch_xs, labels: batch_ys})\n",
    "            print(\"Training accuracy on the {}th step: {}\".format(step, train_acc))\n",
    "\n",
    "    # now evaluate\n",
    "    print(\"Final test accuracy: {}\".format(sess.run([accuracy, cross_entropy],\n",
    "                                                    feed_dict={imgs: mnist.test_data, labels: mnist.test_labels})))\n"
   ]
  },
  {
   "cell_type": "markdown",
   "metadata": {},
   "source": [
    "## Embeddings"
   ]
  },
  {
   "cell_type": "code",
   "execution_count": 120,
   "metadata": {},
   "outputs": [],
   "source": [
    "def make_sprite(imgs, out_path):\n",
    "    \"\"\"\n",
    "    imgs: 2D (!) numpy array containing MNIST image data (i.e. 784-length vectors).\n",
    "    out_path: Path to store sprite image at (e.g. path/to/file.png).\n",
    "    \"\"\"\n",
    "    imgs_square = imgs.reshape(-1, 28, 28)\n",
    "    grid_dim = int(np.ceil(np.sqrt(len(imgs))))\n",
    "    grid_rows = [np.concatenate(imgs_square[ind:(ind+grid_dim)], axis=1) for ind in range(0, len(imgs), grid_dim)]\n",
    "    # maybe pad last row\n",
    "    missing = grid_rows[0].shape[1] - grid_rows[-1].shape[1]\n",
    "    if missing:\n",
    "        grid_rows[-1] = np.pad(grid_rows[-1], ((0, 0), (0, missing)), mode=\"constant\")\n",
    "    grid = np.concatenate(grid_rows, axis=0)\n",
    "    # note that the images are reversed (black on white background) for readability\n",
    "    image.imsave(out_path, grid, cmap=\"Greys\")"
   ]
  },
  {
   "cell_type": "code",
   "execution_count": 121,
   "metadata": {},
   "outputs": [
    {
     "name": "stdout",
     "output_type": "stream",
     "text": [
      "Extracting MNIST_data/train-images-idx3-ubyte.gz\n",
      "Extracting MNIST_data/train-labels-idx1-ubyte.gz\n",
      "Extracting MNIST_data/t10k-images-idx3-ubyte.gz\n",
      "Extracting MNIST_data/t10k-labels-idx1-ubyte.gz\n",
      "Training accuracy on the 0th step: 0.1159999892115593\n",
      "Training accuracy on the 100th step: 0.12999999523162842\n",
      "Training accuracy on the 200th step: 0.2369999885559082\n",
      "Training accuracy on the 300th step: 0.4490000009536743\n",
      "Training accuracy on the 400th step: 0.7330000400543213\n",
      "Training accuracy on the 500th step: 0.8340000510215759\n",
      "Training accuracy on the 600th step: 0.843999981880188\n",
      "Training accuracy on the 700th step: 0.9020000100135803\n",
      "Training accuracy on the 800th step: 0.8969999551773071\n",
      "Training accuracy on the 900th step: 0.9119999408721924\n",
      "Final test accuracy: [0.92090011, 0.25431779]\n"
     ]
    }
   ],
   "source": [
    "tf.reset_default_graph()\n",
    "\n",
    "tb_dir = 'summaries/embeddings_orig'\n",
    "\n",
    "# get the data\n",
    "mnist = input_data.read_data_sets('MNIST_data', one_hot=True)\n",
    "\n",
    "# define the model first, from input to output\n",
    "imgs = tf.placeholder(tf.float32, shape=[None, 28*28])\n",
    "\n",
    "\n",
    "n_hidden = 100\n",
    "n_layers = 8\n",
    "w_range = 0.1\n",
    "hidden = imgs\n",
    "num_to_viz = 256\n",
    "\n",
    "for layer in range(n_layers):\n",
    "    name = \"hidden_{}\".format(layer)\n",
    "    hidden = tf.layers.dense(hidden, n_hidden, activation=tf.nn.relu,\n",
    "                             kernel_initializer=tf.contrib.layers.xavier_initializer(\n",
    "                                 uniform=True),\n",
    "                             bias_initializer=tf.constant_initializer(0.01), name=name)\n",
    "    tf.summary.histogram(name + \"_hist\", hidden)\n",
    "logits = tf.layers.dense(hidden, 10, kernel_initializer=tf.random_uniform_initializer(minval=-w_range, maxval=w_range),\n",
    "                         bias_initializer=tf.zeros_initializer, name=\"logits\")\n",
    "\n",
    "# embedding\n",
    "orig_embedding_vec = tf.Variable([0.], name='orig_embedding')\n",
    "save_orig_embeddings = tf.assign(orig_embedding_vec, imgs, validate_shape=False)\n",
    "\n",
    "embedding_vec = tf.Variable([0.], name='embedding')\n",
    "save_embeddings = tf.assign(embedding_vec, hidden, validate_shape=False)\n",
    "\n",
    "# create the cost and a single training step based on that\n",
    "labels = tf.placeholder(tf.uint8, [None])\n",
    "labels_onehot = tf.one_hot(indices=labels, depth=10)\n",
    "\n",
    "cross_entropy = tf.reduce_mean(tf.nn.softmax_cross_entropy_with_logits(labels=labels_onehot, logits=logits))\n",
    "tf.summary.scalar(\"cost\", cross_entropy)\n",
    "\n",
    "optimizer = tf.train.GradientDescentOptimizer(learning_rate=0.03)\n",
    "for g, v in optimizer.compute_gradients(cross_entropy):\n",
    "    if 'kernel' in v.name:\n",
    "        tf.summary.scalar(\"grad_{}\".format(v.name.replace(':','_')), tf.norm(g))\n",
    "train_step = optimizer.minimize(cross_entropy)\n",
    "\n",
    "\n",
    "# evaluation measures\n",
    "correct_prediction = tf.equal(tf.argmax(logits, 1), tf.argmax(labels_onehot, 1))\n",
    "accuracy = tf.reduce_mean(tf.cast(correct_prediction, tf.float32))\n",
    "tf.summary.scalar(\"accuracy\", accuracy)\n",
    "merged = tf.summary.merge_all()\n",
    "\n",
    "saver = tf.train.Saver()\n",
    "\n",
    "# train!\n",
    "with tf.Session() as sess:\n",
    "    writer = tf.summary.FileWriter(tb_dir, sess.graph)\n",
    "    \n",
    "    config = projector.ProjectorConfig()\n",
    "    embedding_conf = config.embeddings.add()\n",
    "    embedding_conf.tensor_name = orig_embedding_vec.name\n",
    "    embedding_conf.metadata_path = 'metadata.tsv'\n",
    "    embedding_conf.sprite.image_path = 'sprite.jpg'\n",
    "    embedding_conf.sprite.single_image_dim.extend([28, 28])\n",
    "    projector.visualize_embeddings(writer, config)\n",
    "\n",
    "    test_xs, test_ys = mnist.test.images, mnist.test.labels\n",
    "\n",
    "    sess.run(tf.global_variables_initializer())\n",
    "    for step in range(1000):\n",
    "        batch_xs, batch_ys = mnist.train.next_batch(1000)\n",
    "        stats, _ = sess.run([merged, train_step], feed_dict={imgs: batch_xs, labels_onehot: batch_ys})\n",
    "        writer.add_summary(stats, step)\n",
    "        if step % 100 == 0:\n",
    "            train_acc, _ = sess.run([accuracy, cross_entropy], feed_dict={imgs: batch_xs, labels_onehot: batch_ys})\n",
    "            print(\"Training accuracy on the {}th step: {}\".format(step, train_acc))\n",
    "    \n",
    "    sess.run([save_orig_embeddings], feed_dict={imgs: test_xs[:num_to_viz, :],\n",
    "                                           labels_onehot: test_ys[:num_to_viz, :]})\n",
    "    saver.save(sess, os.path.join(tb_dir, \"model.ckpt\"))\n",
    "\n",
    "    # now evaluate\n",
    "    print(\"Final test accuracy: {}\".format(sess.run([accuracy, cross_entropy],\n",
    "                                                    feed_dict={imgs: test_xs, labels_onehot: test_ys})))"
   ]
  },
  {
   "cell_type": "code",
   "execution_count": 122,
   "metadata": {},
   "outputs": [],
   "source": [
    "# save labels as metadata\n",
    "with open(os.path.join(tb_dir, 'metadata.tsv'), 'w') as fout:\n",
    "    for label in list(np.where(test_ys==1)[1][:num_to_viz]):\n",
    "        fout.write('{}\\n'.format(label))         \n",
    "        \n",
    "make_sprite(test_xs[:num_to_viz, :], os.path.join(tb_dir, 'sprite.jpg'))"
   ]
  },
  {
   "cell_type": "code",
   "execution_count": 118,
   "metadata": {
    "scrolled": false
   },
   "outputs": [
    {
     "name": "stdout",
     "output_type": "stream",
     "text": [
      "Extracting MNIST_data/train-images-idx3-ubyte.gz\n",
      "Extracting MNIST_data/train-labels-idx1-ubyte.gz\n",
      "Extracting MNIST_data/t10k-images-idx3-ubyte.gz\n",
      "Extracting MNIST_data/t10k-labels-idx1-ubyte.gz\n",
      "Training accuracy on the 0th step: 0.09200000017881393\n",
      "Training accuracy on the 100th step: 0.1810000091791153\n",
      "Training accuracy on the 200th step: 0.27799999713897705\n",
      "Training accuracy on the 300th step: 0.3439999520778656\n",
      "Training accuracy on the 400th step: 0.687000036239624\n",
      "Training accuracy on the 500th step: 0.8159999847412109\n",
      "Training accuracy on the 600th step: 0.859000027179718\n",
      "Training accuracy on the 700th step: 0.9039999842643738\n",
      "Training accuracy on the 800th step: 0.9039999842643738\n",
      "Training accuracy on the 900th step: 0.9080000519752502\n",
      "Final test accuracy: [0.92160016, 0.26218414]\n"
     ]
    }
   ],
   "source": [
    "tf.reset_default_graph()\n",
    "\n",
    "tb_dir = 'summaries/embeddings'\n",
    "\n",
    "# get the data\n",
    "mnist = input_data.read_data_sets('MNIST_data', one_hot=True)\n",
    "\n",
    "# define the model first, from input to output\n",
    "imgs = tf.placeholder(tf.float32, shape=[None, 28*28])\n",
    "\n",
    "\n",
    "n_hidden = 100\n",
    "n_layers = 8\n",
    "w_range = 0.1\n",
    "hidden = imgs\n",
    "num_to_viz = 256\n",
    "\n",
    "for layer in range(n_layers):\n",
    "    name = \"hidden_{}\".format(layer)\n",
    "    hidden = tf.layers.dense(hidden, n_hidden, activation=tf.nn.relu,\n",
    "                             kernel_initializer=tf.contrib.layers.xavier_initializer(\n",
    "                                 uniform=True),\n",
    "                             bias_initializer=tf.constant_initializer(0.01), name=name)\n",
    "    tf.summary.histogram(name + \"_hist\", hidden)\n",
    "logits = tf.layers.dense(hidden, 10, kernel_initializer=tf.random_uniform_initializer(minval=-w_range, maxval=w_range),\n",
    "                         bias_initializer=tf.zeros_initializer, name=\"logits\")\n",
    "\n",
    "# embedding\n",
    "#orig_embedding_vec = tf.Variable([0.], name='orig_embedding')\n",
    "#save_orig_embeddings = tf.assign(orig_embedding_vec, imgs, validate_shape=False)\n",
    "\n",
    "embedding_vec = tf.Variable([0.], name='embedding')\n",
    "save_embeddings = tf.assign(embedding_vec, hidden, validate_shape=False)\n",
    "\n",
    "# create the cost and a single training step based on that\n",
    "labels = tf.placeholder(tf.uint8, [None])\n",
    "labels_onehot = tf.one_hot(indices=labels, depth=10)\n",
    "\n",
    "cross_entropy = tf.reduce_mean(tf.nn.softmax_cross_entropy_with_logits(labels=labels_onehot, logits=logits))\n",
    "tf.summary.scalar(\"cost\", cross_entropy)\n",
    "\n",
    "optimizer = tf.train.GradientDescentOptimizer(learning_rate=0.03)\n",
    "for g, v in optimizer.compute_gradients(cross_entropy):\n",
    "    if 'kernel' in v.name:\n",
    "        tf.summary.scalar(\"grad_{}\".format(v.name.replace(':','_')), tf.norm(g))\n",
    "train_step = optimizer.minimize(cross_entropy)\n",
    "\n",
    "\n",
    "# evaluation measures\n",
    "correct_prediction = tf.equal(tf.argmax(logits, 1), tf.argmax(labels_onehot, 1))\n",
    "accuracy = tf.reduce_mean(tf.cast(correct_prediction, tf.float32))\n",
    "tf.summary.scalar(\"accuracy\", accuracy)\n",
    "merged = tf.summary.merge_all()\n",
    "\n",
    "saver = tf.train.Saver()\n",
    "\n",
    "# train!\n",
    "with tf.Session() as sess:\n",
    "    writer = tf.summary.FileWriter(tb_dir, sess.graph)\n",
    "    \n",
    "    config = projector.ProjectorConfig()\n",
    "    embedding_conf = config.embeddings.add()\n",
    "    embedding_conf.tensor_name = embedding_vec.name\n",
    "    embedding_conf.metadata_path = 'metadata.tsv'\n",
    "    embedding_conf.sprite.image_path = 'sprite.jpg'\n",
    "    embedding_conf.sprite.single_image_dim.extend([28, 28])\n",
    "    projector.visualize_embeddings(writer, config)\n",
    "\n",
    "    test_xs, test_ys = mnist.test.images, mnist.test.labels\n",
    "\n",
    "    sess.run(tf.global_variables_initializer())\n",
    "    for step in range(1000):\n",
    "        batch_xs, batch_ys = mnist.train.next_batch(1000)\n",
    "        stats, _ = sess.run([merged, train_step], feed_dict={imgs: batch_xs, labels_onehot: batch_ys})\n",
    "        writer.add_summary(stats, step)\n",
    "        if step % 100 == 0:\n",
    "            train_acc, _ = sess.run([accuracy, cross_entropy], feed_dict={imgs: batch_xs, labels_onehot: batch_ys})\n",
    "            print(\"Training accuracy on the {}th step: {}\".format(step, train_acc))\n",
    "    \n",
    "    sess.run([save_embeddings], feed_dict={imgs: test_xs[:num_to_viz, :],\n",
    "                                           labels_onehot: test_ys[:num_to_viz, :]})\n",
    "    saver.save(sess, os.path.join(tb_dir, \"model.ckpt\"))\n",
    "\n",
    "    # now evaluate\n",
    "    print(\"Final test accuracy: {}\".format(sess.run([accuracy, cross_entropy],\n",
    "                                                    feed_dict={imgs: test_xs, labels_onehot: test_ys})))"
   ]
  },
  {
   "cell_type": "code",
   "execution_count": 119,
   "metadata": {},
   "outputs": [],
   "source": [
    "# save labels as metadata\n",
    "with open(os.path.join(tb_dir, 'metadata.tsv'), 'w') as fout:\n",
    "    for label in list(np.where(test_ys==1)[1][:num_to_viz]):\n",
    "        fout.write('{}\\n'.format(label))         \n",
    "        \n",
    "make_sprite(test_xs[:num_to_viz, :], os.path.join(tb_dir, 'sprite.jpg'))"
   ]
  },
  {
   "cell_type": "code",
   "execution_count": null,
   "metadata": {},
   "outputs": [],
   "source": []
  }
 ],
 "metadata": {
  "kernelspec": {
   "display_name": "Python 3",
   "language": "python",
   "name": "python3"
  },
  "language_info": {
   "codemirror_mode": {
    "name": "ipython",
    "version": 3
   },
   "file_extension": ".py",
   "mimetype": "text/x-python",
   "name": "python",
   "nbconvert_exporter": "python",
   "pygments_lexer": "ipython3",
   "version": "3.5.2"
  }
 },
 "nbformat": 4,
 "nbformat_minor": 2
}
